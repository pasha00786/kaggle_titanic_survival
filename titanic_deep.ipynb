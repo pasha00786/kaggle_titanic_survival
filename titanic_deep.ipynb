{
 "cells": [
  {
   "cell_type": "code",
   "execution_count": 1,
   "metadata": {},
   "outputs": [],
   "source": [
    "import pandas as pd\n",
    "import numpy as np\n",
    "import matplotlib.pyplot as plt"
   ]
  },
  {
   "cell_type": "code",
   "execution_count": 2,
   "metadata": {},
   "outputs": [],
   "source": [
    "train = pd.read_csv('train.csv')\n",
    "test = pd.read_csv('test.csv')"
   ]
  },
  {
   "cell_type": "code",
   "execution_count": 5,
   "metadata": {},
   "outputs": [
    {
     "data": {
      "text/html": [
       "<div>\n",
       "<style scoped>\n",
       "    .dataframe tbody tr th:only-of-type {\n",
       "        vertical-align: middle;\n",
       "    }\n",
       "\n",
       "    .dataframe tbody tr th {\n",
       "        vertical-align: top;\n",
       "    }\n",
       "\n",
       "    .dataframe thead th {\n",
       "        text-align: right;\n",
       "    }\n",
       "</style>\n",
       "<table border=\"1\" class=\"dataframe\">\n",
       "  <thead>\n",
       "    <tr style=\"text-align: right;\">\n",
       "      <th></th>\n",
       "      <th>PassengerId</th>\n",
       "      <th>Survived</th>\n",
       "      <th>Pclass</th>\n",
       "      <th>Sex</th>\n",
       "      <th>Age</th>\n",
       "      <th>SibSp</th>\n",
       "      <th>Parch</th>\n",
       "      <th>Fare</th>\n",
       "      <th>Embarked</th>\n",
       "    </tr>\n",
       "  </thead>\n",
       "  <tbody>\n",
       "    <tr>\n",
       "      <th>0</th>\n",
       "      <td>1</td>\n",
       "      <td>0</td>\n",
       "      <td>3</td>\n",
       "      <td>male</td>\n",
       "      <td>22.0</td>\n",
       "      <td>1</td>\n",
       "      <td>0</td>\n",
       "      <td>7.2500</td>\n",
       "      <td>S</td>\n",
       "    </tr>\n",
       "    <tr>\n",
       "      <th>1</th>\n",
       "      <td>2</td>\n",
       "      <td>1</td>\n",
       "      <td>1</td>\n",
       "      <td>female</td>\n",
       "      <td>38.0</td>\n",
       "      <td>1</td>\n",
       "      <td>0</td>\n",
       "      <td>71.2833</td>\n",
       "      <td>C</td>\n",
       "    </tr>\n",
       "    <tr>\n",
       "      <th>2</th>\n",
       "      <td>3</td>\n",
       "      <td>1</td>\n",
       "      <td>3</td>\n",
       "      <td>female</td>\n",
       "      <td>26.0</td>\n",
       "      <td>0</td>\n",
       "      <td>0</td>\n",
       "      <td>7.9250</td>\n",
       "      <td>S</td>\n",
       "    </tr>\n",
       "    <tr>\n",
       "      <th>3</th>\n",
       "      <td>4</td>\n",
       "      <td>1</td>\n",
       "      <td>1</td>\n",
       "      <td>female</td>\n",
       "      <td>35.0</td>\n",
       "      <td>1</td>\n",
       "      <td>0</td>\n",
       "      <td>53.1000</td>\n",
       "      <td>S</td>\n",
       "    </tr>\n",
       "    <tr>\n",
       "      <th>4</th>\n",
       "      <td>5</td>\n",
       "      <td>0</td>\n",
       "      <td>3</td>\n",
       "      <td>male</td>\n",
       "      <td>35.0</td>\n",
       "      <td>0</td>\n",
       "      <td>0</td>\n",
       "      <td>8.0500</td>\n",
       "      <td>S</td>\n",
       "    </tr>\n",
       "  </tbody>\n",
       "</table>\n",
       "</div>"
      ],
      "text/plain": [
       "   PassengerId  Survived  Pclass     Sex   Age  SibSp  Parch     Fare Embarked\n",
       "0            1         0       3    male  22.0      1      0   7.2500        S\n",
       "1            2         1       1  female  38.0      1      0  71.2833        C\n",
       "2            3         1       3  female  26.0      0      0   7.9250        S\n",
       "3            4         1       1  female  35.0      1      0  53.1000        S\n",
       "4            5         0       3    male  35.0      0      0   8.0500        S"
      ]
     },
     "execution_count": 5,
     "metadata": {},
     "output_type": "execute_result"
    }
   ],
   "source": [
    "train.head()"
   ]
  },
  {
   "cell_type": "code",
   "execution_count": 4,
   "metadata": {},
   "outputs": [],
   "source": [
    "train.drop(['Name', 'Ticket','Cabin'], axis = 1, inplace = True)\n",
    "test.drop(['Name', 'Ticket','Cabin'], axis = 1, inplace = True)"
   ]
  },
  {
   "cell_type": "code",
   "execution_count": 6,
   "metadata": {},
   "outputs": [
    {
     "data": {
      "image/png": "[encoded data removed]",
      "text/plain": [
       "<Figure size 432x288 with 1 Axes>"
      ]
     },
     "metadata": {},
     "output_type": "display_data"
    }
   ],
   "source": [
    "def process_age(df,cut_points,label_names):\n",
    "    df[\"Age\"] = df[\"Age\"].fillna(-0.5)\n",
    "    df[\"Age_categories\"] = pd.cut(df[\"Age\"],cut_points,labels=label_names)\n",
    "    return df\n",
    "\n",
    "cut_points = [-1,0,5,12,18,35,60,100]\n",
    "label_names = [\"Missing\",\"Infant\",\"Child\",\"Teenager\",\"Young Adult\",\"Adult\",\"Senior\"]\n",
    "\n",
    "train = process_age(train,cut_points,label_names)\n",
    "test = process_age(test,cut_points,label_names)\n",
    "\n",
    "pivot = train.pivot_table(index=\"Age_categories\",values='Survived')\n",
    "pivot.plot.bar()\n",
    "plt.show()"
   ]
  },
  {
   "cell_type": "code",
   "execution_count": 9,
   "metadata": {},
   "outputs": [],
   "source": [
    "def create_dummies(df,column_name):\n",
    "    dummies = pd.get_dummies(df[column_name],prefix=column_name)\n",
    "    df = pd.concat([df,dummies],axis=1)\n",
    "    return df\n",
    "\n",
    "for column in [\"Pclass\",\"Sex\",\"Age_categories\"]:\n",
    "    train = create_dummies(train,column)\n",
    "    test = create_dummies(test,column)"
   ]
  },
  {
   "cell_type": "code",
   "execution_count": 26,
   "metadata": {},
   "outputs": [
    {
     "data": {
      "text/plain": [
       "(418, 19)"
      ]
     },
     "execution_count": 26,
     "metadata": {},
     "output_type": "execute_result"
    }
   ],
   "source": [
    "test.shape"
   ]
  },
  {
   "cell_type": "code",
   "execution_count": 12,
   "metadata": {},
   "outputs": [],
   "source": [
    "train = create_dummies(train,\"Embarked\")\n",
    "test = create_dummies(test,\"Embarked\")"
   ]
  },
  {
   "cell_type": "code",
   "execution_count": 15,
   "metadata": {},
   "outputs": [],
   "source": [
    "train.drop(['Pclass','Sex','Age','Embarked','Age_categories'], axis = 1 , inplace = True)\n",
    "test.drop(['Pclass','Sex','Age','Embarked','Age_categories'], axis = 1 , inplace = True)"
   ]
  },
  {
   "cell_type": "code",
   "execution_count": 144,
   "metadata": {},
   "outputs": [],
   "source": [
    "from sklearn.linear_model import LogisticRegression, LogisticRegressionCV\n",
    "from sklearn.model_selection import cross_val_score\n",
    "from sklearn.ensemble import RandomForestClassifier\n",
    "from sklearn.ensemble.gradient_boosting import GradientBoostingClassifier\n",
    "from sklearn.neighbors import KNeighborsClassifier\n",
    "from keras.models import Sequential\n",
    "from keras.layers import Dense\n",
    "from keras.wrappers.scikit_learn import KerasClassifier\n",
    "from sklearn.model_selection import StratifiedKFold\n",
    "from sklearn.preprocessing import StandardScaler\n",
    "import keras"
   ]
  },
  {
   "cell_type": "code",
   "execution_count": 147,
   "metadata": {},
   "outputs": [],
   "source": [
    "model = Sequential()\n",
    "model.add(Dense(128,input_dim = 18, activation = 'relu'))\n",
    "model.add(Dense(64, activation = 'relu'))\n",
    "model.add(Dense(2, activation = 'sigmoid'))\n",
    "model.compile(loss='binary_crossentropy', optimizer='rmsprop', metrics=['accuracy'])"
   ]
  },
  {
   "cell_type": "code",
   "execution_count": 145,
   "metadata": {},
   "outputs": [],
   "source": [
    "X = train.drop(['Survived','PassengerId'], axis = 1)\n",
    "y = keras.utils.to_categorical(train.Survived)"
   ]
  },
  {
   "cell_type": "code",
   "execution_count": 35,
   "metadata": {},
   "outputs": [
    {
     "name": "stdout",
     "output_type": "stream",
     "text": [
      "(891, 18) (891,)\n"
     ]
    }
   ],
   "source": [
    "print(X.shape, y.shape)"
   ]
  },
  {
   "cell_type": "code",
   "execution_count": 146,
   "metadata": {},
   "outputs": [
    {
     "name": "stdout",
     "output_type": "stream",
     "text": [
      "[[1. 0.]\n",
      " [0. 1.]\n",
      " [0. 1.]\n",
      " ...\n",
      " [1. 0.]\n",
      " [0. 1.]\n",
      " [1. 0.]]\n"
     ]
    }
   ],
   "source": [
    "print(y)"
   ]
  },
  {
   "cell_type": "code",
   "execution_count": 167,
   "metadata": {},
   "outputs": [
    {
     "name": "stdout",
     "output_type": "stream",
     "text": [
      "Epoch 1/10\n",
      "891/891 [==============================] - 0s 168us/step - loss: 0.2593 - acc: 0.8889\n",
      "Epoch 2/10\n",
      "891/891 [==============================] - 0s 165us/step - loss: 0.2588 - acc: 0.9001\n",
      "Epoch 3/10\n",
      "891/891 [==============================] - 0s 150us/step - loss: 0.2525 - acc: 0.8951\n",
      "Epoch 4/10\n",
      "891/891 [==============================] - 0s 169us/step - loss: 0.2616 - acc: 0.9007\n",
      "Epoch 5/10\n",
      "891/891 [==============================] - 0s 153us/step - loss: 0.2531 - acc: 0.8911\n",
      "Epoch 6/10\n",
      "891/891 [==============================] - 0s 140us/step - loss: 0.2619 - acc: 0.8850\n",
      "Epoch 7/10\n",
      "891/891 [==============================] - 0s 149us/step - loss: 0.2532 - acc: 0.8967\n",
      "Epoch 8/10\n",
      "891/891 [==============================] - 0s 161us/step - loss: 0.2534 - acc: 0.8923\n",
      "Epoch 9/10\n",
      "891/891 [==============================] - 0s 151us/step - loss: 0.2545 - acc: 0.8889\n",
      "Epoch 10/10\n",
      "891/891 [==============================] - 0s 155us/step - loss: 0.2518 - acc: 0.8928\n"
     ]
    },
    {
     "data": {
      "text/plain": [
       "<keras.callbacks.History at 0x7efb929a12e8>"
      ]
     },
     "execution_count": 167,
     "metadata": {},
     "output_type": "execute_result"
    }
   ],
   "source": [
    "model.fit(X, y, epochs=10 , batch_size = 32)"
   ]
  },
  {
   "cell_type": "code",
   "execution_count": 168,
   "metadata": {},
   "outputs": [],
   "source": [
    "predictions = model.predict(test.drop(['PassengerId'], axis = 1).interpolate(method = 'values'))"
   ]
  },
  {
   "cell_type": "code",
   "execution_count": 94,
   "metadata": {},
   "outputs": [],
   "source": [
    "submission = pd.DataFrame()\n",
    "submission['PassengerId'] = test.PassengerId"
   ]
  },
  {
   "cell_type": "code",
   "execution_count": 169,
   "metadata": {
    "collapsed": true
   },
   "outputs": [
    {
     "data": {
      "text/plain": [
       "array([[8.24686825e-01, 1.69306397e-01],\n",
       "       [1.00000000e+00, 9.67868422e-19],\n",
       "       [9.99024510e-01, 8.58176558e-04],\n",
       "       [8.84198248e-01, 1.12847760e-01],\n",
       "       [8.70114326e-01, 1.32896632e-01],\n",
       "       [8.81603301e-01, 1.13221377e-01],\n",
       "       [5.89372039e-01, 4.07225519e-01],\n",
       "       [9.68488216e-01, 3.42783704e-02],\n",
       "       [8.63736204e-04, 9.98943269e-01],\n",
       "       [9.67309773e-01, 2.50893217e-02],\n",
       "       [9.25581872e-01, 7.15144128e-02],\n",
       "       [5.92157900e-01, 4.26804900e-01],\n",
       "       [1.29998252e-02, 9.84741390e-01],\n",
       "       [9.62589204e-01, 3.61032262e-02],\n",
       "       [6.14046061e-04, 9.99544561e-01],\n",
       "       [3.91433074e-04, 9.99793947e-01],\n",
       "       [9.98162687e-01, 1.93590042e-03],\n",
       "       [7.66089380e-01, 2.26122022e-01],\n",
       "       [5.85409999e-01, 4.02976006e-01],\n",
       "       [9.99999881e-01, 9.09687756e-08],\n",
       "       [1.68957129e-01, 8.45451355e-01],\n",
       "       [9.99134600e-01, 5.18403307e-04],\n",
       "       [3.73477233e-03, 9.95639563e-01],\n",
       "       [1.41717136e-01, 8.58423591e-01],\n",
       "       [2.88428832e-02, 9.73288834e-01],\n",
       "       [9.59410131e-01, 3.21410820e-02],\n",
       "       [3.92528204e-03, 9.95409906e-01],\n",
       "       [7.66089380e-01, 2.26122022e-01],\n",
       "       [7.51652181e-01, 2.45036125e-01],\n",
       "       [9.78435874e-01, 1.46350833e-02],\n",
       "       [9.69525933e-01, 2.57846415e-02],\n",
       "       [9.34039116e-01, 6.18818030e-02],\n",
       "       [6.54345155e-01, 3.76744211e-01],\n",
       "       [8.76046956e-01, 1.41050890e-01],\n",
       "       [2.19155312e-01, 7.82378256e-01],\n",
       "       [7.65464425e-01, 2.26625979e-01],\n",
       "       [9.99708951e-01, 1.77435257e-04],\n",
       "       [5.97930193e-01, 4.02799100e-01],\n",
       "       [8.92966926e-01, 1.06427424e-01],\n",
       "       [4.29212093e-01, 5.64805210e-01],\n",
       "       [9.99712288e-01, 2.53948820e-04],\n",
       "       [6.29089713e-01, 3.55612963e-01],\n",
       "       [8.48000288e-01, 1.53903708e-01],\n",
       "       [6.93939775e-02, 9.26792145e-01],\n",
       "       [6.88427594e-04, 9.99447763e-01],\n",
       "       [8.75126958e-01, 1.18797421e-01],\n",
       "       [8.77205551e-01, 1.37783453e-01],\n",
       "       [9.48150277e-01, 4.97532040e-02],\n",
       "       [2.04483906e-04, 9.99685884e-01],\n",
       "       [9.97180939e-01, 2.86465394e-03],\n",
       "       [7.81805992e-01, 2.12623164e-01],\n",
       "       [9.98059452e-01, 2.27891095e-03],\n",
       "       [6.76859054e-05, 9.99937296e-01],\n",
       "       [4.48031873e-01, 4.17042881e-01],\n",
       "       [8.52291048e-01, 1.47972167e-01],\n",
       "       [9.99999881e-01, 2.68254166e-08],\n",
       "       [8.74717951e-01, 1.19055733e-01],\n",
       "       [8.72972012e-01, 1.20226018e-01],\n",
       "       [9.27682102e-01, 6.80993646e-02],\n",
       "       [8.68634956e-11, 1.00000000e+00],\n",
       "       [8.15855205e-01, 1.83436394e-01],\n",
       "       [8.89248490e-01, 1.08169958e-01],\n",
       "       [8.31109285e-01, 1.67884320e-01],\n",
       "       [5.76915979e-01, 4.19757098e-01],\n",
       "       [9.83067334e-01, 1.95009317e-02],\n",
       "       [7.13543675e-04, 9.99376118e-01],\n",
       "       [8.10548365e-02, 9.22325969e-01],\n",
       "       [9.23634291e-01, 6.45151287e-02],\n",
       "       [2.08718866e-01, 8.05084884e-01],\n",
       "       [8.62218559e-01, 1.25901356e-01],\n",
       "       [5.73664188e-01, 4.23002839e-01],\n",
       "       [8.74717951e-01, 1.19055733e-01],\n",
       "       [4.16271538e-01, 5.77997386e-01],\n",
       "       [2.14402884e-01, 8.02453995e-01],\n",
       "       [1.10733909e-05, 9.99990821e-01],\n",
       "       [9.99741733e-01, 2.22357819e-04],\n",
       "       [9.24665213e-01, 7.20713958e-02],\n",
       "       [4.38546529e-04, 9.99685526e-01],\n",
       "       [8.92371416e-01, 1.03979126e-01],\n",
       "       [5.73664188e-01, 4.23002839e-01],\n",
       "       [5.71126691e-07, 9.99999642e-01],\n",
       "       [9.97090101e-01, 2.28502532e-03],\n",
       "       [5.92157900e-01, 4.26804900e-01],\n",
       "       [9.25581872e-01, 7.15144128e-02],\n",
       "       [9.21345770e-01, 6.84032291e-02],\n",
       "       [9.60060239e-01, 2.93199513e-02],\n",
       "       [5.56761622e-01, 4.39878792e-01],\n",
       "       [6.09188855e-01, 3.86805385e-01],\n",
       "       [1.20317623e-01, 8.77656937e-01],\n",
       "       [3.66827226e-06, 9.99992132e-01],\n",
       "       [8.53984118e-01, 1.35957107e-01],\n",
       "       [9.29907918e-01, 6.80343881e-02],\n",
       "       [5.37358262e-02, 9.51482117e-01],\n",
       "       [9.24665213e-01, 7.20713958e-02],\n",
       "       [2.84761101e-01, 7.39569664e-01],\n",
       "       [8.73978138e-01, 1.19549535e-01],\n",
       "       [3.63749522e-03, 9.97518539e-01],\n",
       "       [8.75126958e-01, 1.18797421e-01],\n",
       "       [3.99158448e-01, 5.94558358e-01],\n",
       "       [8.76865089e-01, 1.17697053e-01],\n",
       "       [1.36593962e-03, 9.98951077e-01],\n",
       "       [9.17661190e-01, 9.39437598e-02],\n",
       "       [9.48150277e-01, 4.97532040e-02],\n",
       "       [8.73834968e-01, 1.19645849e-01],\n",
       "       [5.08757978e-08, 1.00000000e+00],\n",
       "       [9.31017578e-01, 6.82143196e-02],\n",
       "       [8.24644685e-01, 1.69334278e-01],\n",
       "       [9.48150277e-01, 4.97532040e-02],\n",
       "       [9.21516776e-01, 7.35846311e-02],\n",
       "       [8.92371416e-01, 1.03979126e-01],\n",
       "       [9.99180138e-01, 8.11722828e-04],\n",
       "       [1.22394823e-01, 8.75824690e-01],\n",
       "       [6.52280927e-01, 3.53428364e-01],\n",
       "       [6.28119230e-01, 3.68839681e-01],\n",
       "       [4.43141612e-09, 1.00000000e+00],\n",
       "       [9.99403000e-01, 6.66163105e-04],\n",
       "       [9.97550786e-01, 2.08848505e-03],\n",
       "       [1.66218746e-02, 9.78042960e-01],\n",
       "       [9.78382111e-01, 1.57534704e-02],\n",
       "       [1.53959572e-01, 8.42097998e-01],\n",
       "       [2.24554296e-05, 9.99958158e-01],\n",
       "       [1.00000000e+00, 4.86868202e-14],\n",
       "       [1.33762334e-03, 9.98720944e-01],\n",
       "       [8.70176375e-01, 1.22098975e-01],\n",
       "       [9.48150277e-01, 4.97532040e-02],\n",
       "       [5.46344146e-02, 9.44794059e-01],\n",
       "       [8.73978138e-01, 1.19549535e-01],\n",
       "       [1.50801759e-04, 9.99769509e-01],\n",
       "       [9.11713064e-01, 8.43503401e-02],\n",
       "       [8.76865089e-01, 1.17697053e-01],\n",
       "       [8.76865089e-01, 1.17697053e-01],\n",
       "       [9.24361348e-01, 8.90290216e-02],\n",
       "       [9.99991179e-01, 4.16539706e-06],\n",
       "       [1.00000000e+00, 1.40150001e-12],\n",
       "       [8.34890008e-01, 1.65262625e-01],\n",
       "       [8.74379337e-01, 1.19279481e-01],\n",
       "       [7.66089380e-01, 2.26122022e-01],\n",
       "       [8.92371416e-01, 1.03979126e-01],\n",
       "       [4.46959049e-01, 5.48348069e-01],\n",
       "       [9.98492241e-01, 6.40955346e-04],\n",
       "       [9.99996185e-01, 3.66270683e-06],\n",
       "       [4.94453823e-03, 9.94623542e-01],\n",
       "       [9.99868512e-01, 1.18904129e-04],\n",
       "       [9.51941907e-01, 5.34065366e-02],\n",
       "       [6.08932495e-01, 4.09332484e-01],\n",
       "       [9.79975045e-01, 1.56522412e-02],\n",
       "       [9.40356672e-01, 5.95232584e-02],\n",
       "       [8.76865089e-01, 1.17697053e-01],\n",
       "       [6.29089713e-01, 3.55612963e-01],\n",
       "       [9.66318488e-01, 3.78423668e-02],\n",
       "       [3.85648236e-02, 9.55571413e-01],\n",
       "       [9.25312579e-01, 7.45754689e-02],\n",
       "       [9.46805000e-01, 4.16501015e-02],\n",
       "       [1.00000000e+00, 2.77075880e-11],\n",
       "       [9.99984860e-01, 6.68541225e-06],\n",
       "       [8.72278035e-01, 1.20691918e-01],\n",
       "       [5.04933496e-06, 9.99996901e-01],\n",
       "       [3.99158448e-01, 5.94558358e-01],\n",
       "       [6.08932495e-01, 4.09332484e-01],\n",
       "       [1.66880921e-03, 9.98219311e-01],\n",
       "       [1.20024480e-01, 8.77846658e-01],\n",
       "       [5.71126691e-07, 9.99999642e-01],\n",
       "       [9.42571610e-02, 9.02363241e-01],\n",
       "       [9.94286716e-01, 4.92454553e-03],\n",
       "       [9.11713064e-01, 8.43503401e-02],\n",
       "       [5.28504968e-01, 4.50082600e-01],\n",
       "       [8.89051139e-01, 9.70305055e-02],\n",
       "       [9.97182369e-01, 2.67150649e-03],\n",
       "       [9.28948298e-02, 8.95145893e-01],\n",
       "       [6.68189883e-01, 3.38319600e-01],\n",
       "       [9.47675586e-01, 5.24628945e-02],\n",
       "       [7.66089380e-01, 2.26122022e-01],\n",
       "       [9.34609771e-01, 6.37768358e-02],\n",
       "       [9.27703023e-01, 7.19916299e-02],\n",
       "       [9.99986768e-01, 5.34787796e-06],\n",
       "       [7.29775309e-07, 9.99999285e-01],\n",
       "       [1.16387522e-03, 9.99097228e-01],\n",
       "       [1.38432190e-01, 8.72838199e-01],\n",
       "       [4.97782230e-06, 9.99995708e-01],\n",
       "       [9.06802833e-01, 4.86801602e-02],\n",
       "       [8.92371416e-01, 1.03979126e-01],\n",
       "       [5.99820912e-01, 4.46246237e-01],\n",
       "       [1.48190651e-03, 9.98360932e-01],\n",
       "       [9.48150277e-01, 4.97532040e-02],\n",
       "       [5.48613083e-04, 9.99662876e-01],\n",
       "       [9.24009383e-01, 7.51514286e-02],\n",
       "       [3.03309821e-02, 9.75008547e-01],\n",
       "       [1.00000000e+00, 1.51902755e-14],\n",
       "       [9.93225276e-01, 6.25326019e-03],\n",
       "       [9.11713064e-01, 8.43503401e-02],\n",
       "       [9.17661190e-01, 9.39437598e-02],\n",
       "       [6.35208189e-01, 3.48076403e-01],\n",
       "       [5.00337665e-05, 9.99964595e-01],\n",
       "       [9.56807196e-01, 3.87105756e-02],\n",
       "       [1.22075096e-06, 9.99992251e-01],\n",
       "       [8.74379337e-01, 1.19279481e-01],\n",
       "       [7.77186304e-02, 9.36063290e-01],\n",
       "       [5.92311978e-01, 4.00223404e-01],\n",
       "       [9.15936291e-01, 8.71801600e-02],\n",
       "       [9.99666929e-01, 2.05601391e-04],\n",
       "       [3.56629933e-03, 9.96933103e-01],\n",
       "       [3.83203172e-07, 9.99999166e-01],\n",
       "       [9.35294628e-01, 3.89485136e-02],\n",
       "       [5.38170512e-04, 9.99027133e-01],\n",
       "       [9.15936291e-01, 8.71801600e-02],\n",
       "       [9.09336567e-01, 9.30136517e-02],\n",
       "       [5.73664188e-01, 4.23002839e-01],\n",
       "       [9.15936291e-01, 8.71801600e-02],\n",
       "       [7.33764237e-03, 9.92935836e-01],\n",
       "       [8.74717951e-01, 1.19055733e-01],\n",
       "       [9.31017578e-01, 6.82143196e-02],\n",
       "       [9.92974520e-01, 6.14280952e-03],\n",
       "       [9.93174374e-01, 4.25497256e-03],\n",
       "       [3.67069095e-01, 6.57774627e-01],\n",
       "       [1.00000000e+00, 1.54315891e-20],\n",
       "       [9.24203694e-01, 6.39897659e-02],\n",
       "       [1.29722610e-01, 8.69391739e-01],\n",
       "       [9.72894788e-01, 2.99143326e-02],\n",
       "       [5.97930848e-05, 9.99964595e-01],\n",
       "       [9.24665213e-01, 7.20713958e-02],\n",
       "       [2.69285547e-27, 1.00000000e+00],\n",
       "       [8.76865089e-01, 1.17697053e-01],\n",
       "       [2.48914061e-04, 9.99722660e-01],\n",
       "       [8.73978138e-01, 1.19549535e-01],\n",
       "       [7.48809934e-01, 2.69420892e-01],\n",
       "       [9.87813354e-01, 7.06384843e-03],\n",
       "       [8.73978138e-01, 1.19549535e-01],\n",
       "       [1.20317623e-01, 8.77656937e-01],\n",
       "       [9.58622158e-01, 4.12481911e-02],\n",
       "       [9.11713064e-01, 8.43503401e-02],\n",
       "       [9.91637647e-01, 5.02339937e-03],\n",
       "       [6.68333145e-03, 9.93061721e-01],\n",
       "       [9.90844190e-01, 6.55230973e-03],\n",
       "       [9.43446577e-01, 5.29575422e-02],\n",
       "       [3.72454703e-01, 6.55871809e-01],\n",
       "       [8.74379337e-01, 1.19279481e-01],\n",
       "       [9.73725617e-01, 2.10816339e-02],\n",
       "       [7.66089380e-01, 2.26122022e-01],\n",
       "       [2.25573785e-14, 1.00000000e+00],\n",
       "       [1.28453263e-04, 9.99906659e-01],\n",
       "       [7.43044078e-01, 2.74507016e-01],\n",
       "       [7.88279576e-05, 9.99928355e-01],\n",
       "       [9.59392011e-01, 4.74261306e-02],\n",
       "       [9.25630927e-01, 7.14845732e-02],\n",
       "       [9.82701957e-01, 1.46900648e-02],\n",
       "       [7.26742864e-01, 2.82906175e-01],\n",
       "       [9.60807204e-02, 9.17176366e-01],\n",
       "       [9.82177258e-01, 1.65561978e-02],\n",
       "       [1.53959572e-01, 8.42097998e-01],\n",
       "       [9.98249412e-01, 1.49356679e-03],\n",
       "       [5.52767403e-07, 9.99999166e-01],\n",
       "       [8.75126958e-01, 1.18797421e-01],\n",
       "       [9.70820129e-01, 3.00735589e-02],\n",
       "       [8.91434968e-01, 1.07840799e-01],\n",
       "       [8.92966926e-01, 1.06427424e-01],\n",
       "       [9.47675586e-01, 5.24628945e-02],\n",
       "       [9.48150277e-01, 4.97532040e-02],\n",
       "       [8.76865089e-01, 1.17697053e-01],\n",
       "       [6.93939775e-02, 9.26792145e-01],\n",
       "       [8.73834968e-01, 1.19645849e-01],\n",
       "       [9.52931046e-01, 4.16127928e-02],\n",
       "       [8.74379337e-01, 1.19279481e-01],\n",
       "       [4.94373016e-05, 9.99953628e-01],\n",
       "       [6.75331661e-03, 9.91299927e-01],\n",
       "       [9.99862194e-01, 1.19332006e-04],\n",
       "       [9.25581872e-01, 7.15144128e-02],\n",
       "       [1.00000000e+00, 0.00000000e+00],\n",
       "       [9.47675586e-01, 5.24628945e-02],\n",
       "       [9.99708951e-01, 1.77435257e-04],\n",
       "       [8.53943288e-01, 1.40014559e-01],\n",
       "       [9.78382111e-01, 1.57534704e-02],\n",
       "       [9.48150277e-01, 4.97532040e-02],\n",
       "       [5.76930121e-03, 9.95345891e-01],\n",
       "       [8.36030988e-04, 9.99114454e-01],\n",
       "       [9.28002894e-01, 7.16868788e-02],\n",
       "       [1.53959572e-01, 8.42097998e-01],\n",
       "       [9.15936291e-01, 8.71801600e-02],\n",
       "       [9.69525933e-01, 2.57846415e-02],\n",
       "       [8.99793565e-01, 1.12606108e-01],\n",
       "       [9.15936291e-01, 8.71801600e-02],\n",
       "       [5.97930193e-01, 4.02799100e-01],\n",
       "       [1.74204451e-05, 9.99975681e-01],\n",
       "       [1.20317623e-01, 8.77656937e-01],\n",
       "       [9.99944687e-01, 1.44717978e-05],\n",
       "       [2.11542994e-02, 9.76477563e-01],\n",
       "       [9.98948634e-01, 9.25504370e-04],\n",
       "       [9.83997583e-01, 1.48146572e-02],\n",
       "       [9.24701810e-01, 6.95585757e-02],\n",
       "       [9.27703023e-01, 7.19916299e-02],\n",
       "       [9.24665213e-01, 7.20713958e-02],\n",
       "       [8.28795433e-01, 1.87519610e-01],\n",
       "       [6.58177733e-01, 3.40767652e-01],\n",
       "       [9.27703023e-01, 7.19916299e-02],\n",
       "       [5.57106912e-01, 4.56722319e-01],\n",
       "       [8.81003261e-01, 1.08992390e-01],\n",
       "       [8.74717951e-01, 1.19055733e-01],\n",
       "       [9.11212368e-08, 9.99999881e-01],\n",
       "       [9.78435874e-01, 1.46350833e-02],\n",
       "       [8.45973492e-01, 1.54954582e-01],\n",
       "       [8.74379337e-01, 1.19279481e-01],\n",
       "       [8.73834968e-01, 1.19645849e-01],\n",
       "       [6.65028572e-01, 3.40004593e-01],\n",
       "       [9.81060743e-01, 1.89631283e-02],\n",
       "       [8.84198248e-01, 1.12847760e-01],\n",
       "       [1.20317623e-01, 8.77656937e-01],\n",
       "       [3.20508741e-02, 9.58537877e-01],\n",
       "       [8.90829265e-01, 9.65299979e-02],\n",
       "       [6.63215189e-08, 9.99999881e-01],\n",
       "       [6.74316704e-01, 3.42527777e-01],\n",
       "       [9.80180025e-01, 1.98674500e-02],\n",
       "       [8.53943288e-01, 1.40014559e-01],\n",
       "       [7.66089380e-01, 2.26122022e-01],\n",
       "       [9.45535421e-01, 5.44713661e-02],\n",
       "       [9.99998927e-01, 6.70158045e-07],\n",
       "       [7.20596381e-06, 9.99989152e-01],\n",
       "       [1.17863826e-01, 8.84946704e-01],\n",
       "       [9.59282398e-01, 3.63426358e-02],\n",
       "       [9.15936291e-01, 8.71801600e-02],\n",
       "       [8.74379337e-01, 1.19279481e-01],\n",
       "       [9.34039116e-01, 6.18818030e-02],\n",
       "       [8.73834968e-01, 1.19645849e-01],\n",
       "       [7.65464425e-01, 2.26625979e-01],\n",
       "       [8.92371416e-01, 1.03979126e-01],\n",
       "       [1.61003098e-01, 8.43781650e-01],\n",
       "       [8.37279579e-09, 1.00000000e+00],\n",
       "       [8.68759036e-01, 1.23044834e-01],\n",
       "       [2.25389283e-02, 9.58387017e-01],\n",
       "       [9.82019484e-01, 1.27913086e-02],\n",
       "       [9.17661190e-01, 9.39437598e-02],\n",
       "       [8.92371416e-01, 1.03979126e-01],\n",
       "       [8.59068823e-05, 9.99945521e-01],\n",
       "       [8.77205551e-01, 1.37783453e-01],\n",
       "       [9.28002894e-01, 7.16868788e-02],\n",
       "       [3.27150228e-05, 9.99970675e-01],\n",
       "       [8.74717951e-01, 1.19055733e-01],\n",
       "       [1.48735404e-01, 8.56509686e-01],\n",
       "       [8.92371416e-01, 1.03979126e-01],\n",
       "       [1.00000000e+00, 7.28785006e-25],\n",
       "       [9.62572217e-01, 3.88048328e-02],\n",
       "       [9.27703023e-01, 7.19916299e-02],\n",
       "       [9.99910712e-01, 6.05488858e-05],\n",
       "       [8.72480989e-01, 1.20555714e-01],\n",
       "       [9.99995947e-01, 4.88926787e-07],\n",
       "       [3.07231294e-19, 1.00000000e+00],\n",
       "       [9.89178538e-01, 1.40231550e-02],\n",
       "       [5.78040183e-01, 4.12545115e-01],\n",
       "       [8.92371416e-01, 1.03979126e-01],\n",
       "       [9.99999881e-01, 9.16798015e-08],\n",
       "       [8.89248490e-01, 1.08169958e-01],\n",
       "       [9.60807204e-02, 9.17176366e-01],\n",
       "       [4.88609895e-02, 9.18171942e-01],\n",
       "       [9.15936291e-01, 8.71801600e-02],\n",
       "       [9.93174374e-01, 4.25497256e-03],\n",
       "       [9.85304177e-01, 6.93091471e-03],\n",
       "       [4.08718269e-03, 9.93457973e-01],\n",
       "       [5.92157900e-01, 4.26804900e-01],\n",
       "       [7.14052469e-04, 9.99391317e-01],\n",
       "       [9.25679982e-01, 7.14546889e-02],\n",
       "       [9.48150277e-01, 4.97532040e-02],\n",
       "       [7.86153436e-01, 1.93779945e-01],\n",
       "       [9.98506129e-01, 7.38254050e-04],\n",
       "       [2.31168015e-05, 9.99991417e-01],\n",
       "       [9.60807204e-02, 9.17176366e-01],\n",
       "       [8.84198248e-01, 1.12847760e-01],\n",
       "       [1.23287516e-03, 9.98830855e-01],\n",
       "       [9.99058068e-01, 3.83372011e-04],\n",
       "       [9.60018039e-01, 2.93428954e-02],\n",
       "       [1.18602104e-02, 9.88214374e-01],\n",
       "       [6.16603233e-02, 8.99093390e-01],\n",
       "       [9.99492407e-01, 5.11713268e-04],\n",
       "       [9.99555767e-01, 6.30411319e-04],\n",
       "       [2.27063848e-03, 9.96809781e-01],\n",
       "       [1.00000000e+00, 0.00000000e+00],\n",
       "       [9.11713064e-01, 8.43503401e-02],\n",
       "       [1.57029927e-02, 9.88015711e-01],\n",
       "       [8.68634956e-11, 1.00000000e+00],\n",
       "       [9.39129459e-05, 9.99957442e-01],\n",
       "       [9.07281220e-01, 8.98126662e-02],\n",
       "       [9.53902483e-01, 3.75491902e-02],\n",
       "       [4.10612285e-01, 5.70644915e-01],\n",
       "       [9.48150277e-01, 4.97532040e-02],\n",
       "       [8.24937403e-01, 1.69140458e-01],\n",
       "       [4.72844213e-01, 4.65839565e-01],\n",
       "       [7.70834565e-01, 2.05313176e-01],\n",
       "       [3.79446559e-02, 9.51815426e-01],\n",
       "       [2.05250848e-02, 9.83257115e-01],\n",
       "       [8.73834968e-01, 1.19645849e-01],\n",
       "       [9.11713064e-01, 8.43503401e-02],\n",
       "       [8.24289262e-01, 1.69569567e-01],\n",
       "       [9.99999762e-01, 7.04409757e-08],\n",
       "       [9.85885024e-01, 1.29281506e-02],\n",
       "       [4.51382548e-02, 9.45255339e-01],\n",
       "       [9.87751603e-01, 1.10507635e-02],\n",
       "       [9.99489665e-01, 7.85548065e-04],\n",
       "       [9.69555557e-01, 2.57383082e-02],\n",
       "       [1.02575950e-03, 9.98869717e-01],\n",
       "       [8.34533095e-01, 1.62695006e-01],\n",
       "       [4.09805104e-02, 9.68633473e-01],\n",
       "       [8.73834968e-01, 1.19645849e-01],\n",
       "       [8.24205279e-01, 1.69625059e-01],\n",
       "       [1.58141495e-03, 9.98441994e-01],\n",
       "       [9.52469766e-01, 4.61446233e-02],\n",
       "       [2.83411797e-03, 9.96652782e-01],\n",
       "       [8.78400385e-01, 9.74266157e-02],\n",
       "       [2.23470911e-01, 7.67459989e-01],\n",
       "       [9.99490023e-01, 5.14453975e-04],\n",
       "       [9.99929070e-01, 8.98131839e-05],\n",
       "       [9.95688260e-01, 4.69460990e-03],\n",
       "       [1.20805383e-01, 8.77026916e-01],\n",
       "       [1.21669732e-02, 9.83240962e-01],\n",
       "       [1.20317623e-01, 8.77656937e-01],\n",
       "       [6.23042297e-06, 9.99994636e-01],\n",
       "       [3.80304545e-01, 6.12830818e-01],\n",
       "       [9.24665213e-01, 7.20713958e-02],\n",
       "       [2.78888947e-05, 9.99956727e-01],\n",
       "       [9.98948634e-01, 9.25504370e-04],\n",
       "       [9.24665093e-01, 7.20714107e-02],\n",
       "       [1.08389460e-01, 8.72958362e-01]], dtype=float32)"
      ]
     },
     "execution_count": 169,
     "metadata": {},
     "output_type": "execute_result"
    }
   ],
   "source": [
    "predictions"
   ]
  },
  {
   "cell_type": "code",
   "execution_count": 98,
   "metadata": {},
   "outputs": [
    {
     "data": {
      "text/plain": [
       "GradientBoostingClassifier(criterion='friedman_mse', init=None,\n",
       "              learning_rate=0.05, loss='deviance', max_depth=3,\n",
       "              max_features=None, max_leaf_nodes=None,\n",
       "              min_impurity_decrease=0.0, min_impurity_split=None,\n",
       "              min_samples_leaf=1, min_samples_split=2,\n",
       "              min_weight_fraction_leaf=0.0, n_estimators=100,\n",
       "              presort='auto', random_state=None, subsample=1.0, verbose=0,\n",
       "              warm_start=False)"
      ]
     },
     "execution_count": 98,
     "metadata": {},
     "output_type": "execute_result"
    }
   ],
   "source": [
    "model.fit(X,y)"
   ]
  },
  {
   "cell_type": "code",
   "execution_count": 99,
   "metadata": {},
   "outputs": [],
   "source": [
    "predictions = model.predict(test.drop(['PassengerId'], axis = 1).interpolate(method = 'values'))"
   ]
  },
  {
   "cell_type": "code",
   "execution_count": 175,
   "metadata": {},
   "outputs": [],
   "source": [
    "prediction = [np.argmax(i) for i in predictions]"
   ]
  },
  {
   "cell_type": "code",
   "execution_count": 177,
   "metadata": {},
   "outputs": [],
   "source": [
    "submission.Survived = prediction"
   ]
  },
  {
   "cell_type": "code",
   "execution_count": 179,
   "metadata": {},
   "outputs": [
    {
     "data": {
      "text/plain": [
       "array([0, 1])"
      ]
     },
     "execution_count": 179,
     "metadata": {},
     "output_type": "execute_result"
    }
   ],
   "source": [
    "submission.Survived.unique()"
   ]
  },
  {
   "cell_type": "code",
   "execution_count": 180,
   "metadata": {},
   "outputs": [],
   "source": [
    "submission.to_csv('Submission_3_dl.csv', index = False)"
   ]
  },
  {
   "cell_type": "code",
   "execution_count": null,
   "metadata": {},
   "outputs": [],
   "source": []
  },
  {
   "cell_type": "code",
   "execution_count": null,
   "metadata": {},
   "outputs": [],
   "source": []
  }
 ],
 "metadata": {
  "kernelspec": {
   "display_name": "Python 3",
   "language": "python",
   "name": "python3"
  },
  "language_info": {
   "codemirror_mode": {
    "name": "ipython",
    "version": 3
   },
   "file_extension": ".py",
   "mimetype": "text/x-python",
   "name": "python",
   "nbconvert_exporter": "python",
   "pygments_lexer": "ipython3",
   "version": "3.6.5"
  }
 },
 "nbformat": 4,
 "nbformat_minor": 2
}
